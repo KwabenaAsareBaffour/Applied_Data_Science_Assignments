{
 "cells": [
  {
   "cell_type": "code",
   "execution_count": 62,
   "metadata": {},
   "outputs": [],
   "source": [
    "# Import the 'os' and 'csv' libraries\n",
    "import os\n",
    "import csv"
   ]
  },
  {
   "cell_type": "code",
   "execution_count": 65,
   "metadata": {},
   "outputs": [],
   "source": [
    "# Set path for importing our CSV file\n",
    "yahoo_stock = os.path.join(\"/Users\",\"kasarebaffour\",\"temp-notebooks\",\"NFLX-VIRT-DATA-PT-08-2021-E-LOL\",\"02-Assignments\",\"01-Introduction\",\"02-Programming_With_Python\",\"Resources\",\"yahoo_stock.csv\")"
   ]
  },
  {
   "cell_type": "code",
   "execution_count": 69,
   "metadata": {},
   "outputs": [
    {
     "name": "stdout",
     "output_type": "stream",
     "text": [
      "DAY WITH HIGHEST PERCENTAGE CHANGE.\n",
      "Date: 3/12/2020\n",
      "Stock High: 2660.949951\n",
      "Stock Low: 2478.860107\n",
      "Volume: 8829380000\n",
      "Percentage Change: 5.71%\n"
     ]
    }
   ],
   "source": [
    "# Open a connection to the comma-delimited csv file \n",
    "with open(yahoo_stock) as document:\n",
    "    \n",
    "    # Read in the CSV file using csv.DictReader() class\n",
    "    read_data = csv.DictReader(document)   \n",
    "\n",
    "    # Create a variable to save our print row and greatest daily percent change\n",
    "    print_row = next(read_data)\n",
    "    greatest_percent = abs(round((float(print_row['Close'])-float(print_row['Open']))/float(print_row['Open'])*100,2))\n",
    "    # Iterate through each row\n",
    "    for row in read_data:\n",
    "        # For each row, calculate the daily percent change\n",
    "        percent = abs(round((float(row['Close'])-float(row['Open']))/float(row['Open'])*100,2))\n",
    "        # Check if the absolute daily percent change is greater than the previous max\n",
    "        if percent > greatest_percent:\n",
    "            # If true, store new greatest daily percent change and print row\n",
    "            greatest_percent = percent\n",
    "            print_row = row\n",
    "                \n",
    "    # Print out the date, stock high, stock low, volume and percent change for the day with the greatest percent change\n",
    "    print(\"DAY WITH HIGHEST PERCENTAGE CHANGE.\")\n",
    "    print(f'Date: {print_row[\"Date\"]}\\nStock High: {print_row[\"High\"]}\\nStock Low: {print_row[\"Low\"]}\\nVolume: {print_row[\"Volume\"]}\\nPercentage Change: {greatest_percent}%')\n"
   ]
  },
  {
   "cell_type": "code",
   "execution_count": null,
   "metadata": {},
   "outputs": [],
   "source": []
  }
 ],
 "metadata": {
  "kernelspec": {
   "display_name": "Python 3",
   "language": "python",
   "name": "python3"
  },
  "language_info": {
   "codemirror_mode": {
    "name": "ipython",
    "version": 3
   },
   "file_extension": ".py",
   "mimetype": "text/x-python",
   "name": "python",
   "nbconvert_exporter": "python",
   "pygments_lexer": "ipython3",
   "version": "3.8.8"
  }
 },
 "nbformat": 4,
 "nbformat_minor": 4
}
