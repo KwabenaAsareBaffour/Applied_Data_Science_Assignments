{
 "cells": [
  {
   "cell_type": "markdown",
   "metadata": {
    "id": "Dqr96HasFnC8"
   },
   "source": [
    "1. Which is the best schema for creating a new database table called weather_history?\n",
    "\n",
    "a. \n",
    "```\n",
    "CREATE TABLE weatherhistory (\n",
    "  date VARCHAR NOT NULL,\n",
    "  temperature VARCHAR,\n",
    "  rainfall_amount VARCHAR,\n",
    ");\n",
    "```\n",
    "\n",
    "b. \n",
    "\n",
    "```\n",
    "CREATE TABLE weather_history (\n",
    "  date VARCHAR,\n",
    "  temperature VARCHAR,\n",
    "  rainfall_amount VARCHAR,\n",
    ");\n",
    "```\n",
    "\n",
    "c. \n",
    "```\n",
    "CREATE TABLE weather_history (\n",
    "  date DATE NOT NULL,\n",
    "  temperature FLOAT,\n",
    "  rainfall_amount INT,\n",
    ");\n",
    "```\n",
    "\n",
    "d. \n",
    "```\n",
    "CREATE TABLE weather_history (\n",
    "  date DATE NOT NULL,\n",
    "  temperature FLOAT,\n",
    "  rainfall_amount FLOAT,\n",
    ");\n",
    "```"
   ]
  },
  {
   "cell_type": "code",
   "execution_count": 10,
   "metadata": {
    "id": "JiuxgScaIr5q"
   },
   "outputs": [],
   "source": [
    "# Please provide answer below.\n",
    "# Answer: d"
   ]
  },
  {
   "cell_type": "markdown",
   "metadata": {
    "id": "yshvJVf5Fr2S"
   },
   "source": [
    "2. Which is the best way to select all from weather_history?\n",
    "\n",
    "a. \n",
    "\n",
    "```\n",
    "SELECT ALL FROM weather_history;\n",
    "```\n",
    "\n",
    "b. \n",
    "\n",
    "```\n",
    "SELECT date, temperature, rainfall_amount FROM weather_history;\n",
    "```\n",
    "\n",
    "c. \n",
    "\n",
    "```\n",
    "SELECT * FROM weather_history;\n",
    "```\n",
    "\n",
    "d. \n",
    "\n",
    "```\n",
    "SELECT ALL(*) FROM weather_history;\n",
    "```"
   ]
  },
  {
   "cell_type": "code",
   "execution_count": null,
   "metadata": {
    "id": "assQn1-9KEXR"
   },
   "outputs": [],
   "source": [
    "# Please provide your answer below.\n",
    "# Answer: c"
   ]
  },
  {
   "cell_type": "markdown",
   "metadata": {
    "id": "Z55y12zwFsma"
   },
   "source": [
    "3. Which is the best way to select temperature and rainfall_amount, then group by date?\n",
    "\n",
    "a. \n",
    "\n",
    "```\n",
    "select * FROM weather_history GROUP BY date;\n",
    "```\n",
    "\n",
    "b. \n",
    "\n",
    "```\n",
    "select temperature, rainfall_amount FROM weather_history GROUP BY date;\n",
    "```\n",
    "\n",
    "c. \n",
    "\n",
    "```\n",
    "select temperature, rainfall_amount FROM weather_history;\n",
    "```\n",
    "\n",
    "d. \n",
    "\n",
    "```\n",
    "select * FROM weather_history GROUP BY temperature, rainfall_amount, date;\n",
    "```"
   ]
  },
  {
   "cell_type": "code",
   "execution_count": 2,
   "metadata": {
    "id": "NAlfc5y9ONMX"
   },
   "outputs": [],
   "source": [
    "# Please provide your answer below.\n",
    "# Answer: d"
   ]
  },
  {
   "cell_type": "markdown",
   "metadata": {
    "id": "FKCmL7JmFvfd"
   },
   "source": [
    "4. Which is the best way to find the number of rows in the weather_history database table?\n",
    "\n",
    "a. \n",
    "```\n",
    "select count(date) FROM weather_history;\n",
    "```\n",
    "\n",
    "b. \n",
    "```\n",
    "select * FROM weather_history;\n",
    "```\n",
    "\n",
    "c.\n",
    "```\n",
    "select count(*) FROM weather_history;\n",
    "```\n",
    "\n",
    "d. \n",
    "```\n",
    "select *, count(*) FROM weather_history;\n",
    "```"
   ]
  },
  {
   "cell_type": "code",
   "execution_count": 3,
   "metadata": {
    "id": "G9sXU3XZeHhK"
   },
   "outputs": [],
   "source": [
    "# Please provide your answer below.\n",
    "# Answer: c"
   ]
  },
  {
   "cell_type": "markdown",
   "metadata": {
    "id": "I5ajhWSaFxXL"
   },
   "source": [
    "5. Which CTE is the best example of returning the number of days where the temperature is over 50 degrees?\n",
    "\n",
    "a. \n",
    "```\n",
    "WITH greater_than_50 AS (\n",
    "  SELECT *\n",
    "  FROM weather_history\n",
    ")\n",
    "SELECT *\n",
    "FROM greater_than_50\n",
    "WHERE temperature > 50;\n",
    "```\n",
    "\n",
    "b.\n",
    "```\n",
    "WITH greater_than_50 AS (\n",
    "  SELECT *\n",
    "  FROM weather_history\n",
    "  WHERE temperature > 50\n",
    ")\n",
    "SELECT *\n",
    "FROM greater_than_50\n",
    "```\n",
    "\n",
    "c.\n",
    "```\n",
    "WITH greater_than_50 AS (\n",
    "  SELECT *\n",
    "  FROM weather_history\n",
    "  WHERE temperature > 50\n",
    ")\n",
    "```\n",
    "\n",
    "d.\n",
    "```\n",
    "SELECT *\n",
    "FROM weather_history\n",
    "WHERE temperature > 50\n",
    "```"
   ]
  },
  {
   "cell_type": "code",
   "execution_count": 4,
   "metadata": {
    "id": "8xgbeDyygyOw"
   },
   "outputs": [],
   "source": [
    "# Please provide your answer below.\n",
    "#Answer: b"
   ]
  },
  {
   "cell_type": "markdown",
   "metadata": {
    "id": "r3DHYAPgFzDc"
   },
   "source": [
    "6. What is the difference between AWS RDS and AWS S3?\n",
    "\n",
    "a. RDS is a file storage service. S3 is a database service.\n",
    "\n",
    "b. RDS is a server that can run PySpark code. S3 is a database service.\n",
    "\n",
    "c. RDS is a database service. S3 is also a database service.\n",
    "\n",
    "d. RDS is a database service. S3 is a file storage service."
   ]
  },
  {
   "cell_type": "code",
   "execution_count": 5,
   "metadata": {
    "id": "K8-Wek6bgy6Q"
   },
   "outputs": [],
   "source": [
    "# Please provide your answer below.\n",
    "# Answer: d"
   ]
  },
  {
   "cell_type": "markdown",
   "metadata": {
    "id": "JFUKVXYzGOi5"
   },
   "source": [
    "7. Which method should be used to change the data type of a DataFrame column in PySpark?\n",
    "\n",
    "a. \n",
    "```\n",
    "dataType()\n",
    "```\n",
    "\n",
    "b. \n",
    "```\n",
    "withType()\n",
    "```\n",
    "\n",
    "c.\n",
    "```\n",
    "withColumn()\n",
    "```\n",
    "\n",
    "d. \n",
    "```\n",
    "changeColumn()\n",
    "```"
   ]
  },
  {
   "cell_type": "code",
   "execution_count": 6,
   "metadata": {
    "id": "mn2DKHtPhUOm"
   },
   "outputs": [],
   "source": [
    "# Please provide your answer below.\n",
    "# Answer: c"
   ]
  },
  {
   "cell_type": "markdown",
   "metadata": {
    "id": "7jeSAt7vGQ3s"
   },
   "source": [
    "8. Which standard parameters are needed to insert into an RDS Postgres database table?\n",
    "\n",
    "a.\n",
    "```\n",
    "database_table, username, password, url, column_count\n",
    "```\n",
    "\n",
    "b.\n",
    "```\n",
    "database_table, username, password\n",
    "```\n",
    "\n",
    "c. \n",
    "```\n",
    "username, password, url\n",
    "```\n",
    "\n",
    "d.\n",
    "```\n",
    "username, password, driver\n",
    "```"
   ]
  },
  {
   "cell_type": "code",
   "execution_count": 7,
   "metadata": {
    "id": "PnQNhVxFh6Tv"
   },
   "outputs": [],
   "source": [
    "# Please provide your answer below.\n",
    "# Answer: b"
   ]
  },
  {
   "cell_type": "markdown",
   "metadata": {
    "id": "qGO1gXrOGTAm"
   },
   "source": [
    "9. Suppose you had a dataframe with columns called transaction_id, item_id, and item_cost. What is the correct way to group all of the item_id’s together using PySpark such that it creates a new dataframe?\n",
    "\n",
    "a. \n",
    "```\n",
    "transaction_df.groupBy('item_id')\n",
    "```\n",
    "\n",
    "b. \n",
    "```\n",
    "transaction_df.groupBy('item_cost')\n",
    "```\n",
    "\n",
    "c. \n",
    "```\n",
    "transactionGroups = transaction_df.groupBy('item_id')\n",
    "```\n",
    "\n",
    "d. \n",
    "```\n",
    "transaction_df['item_id']\n",
    "```"
   ]
  },
  {
   "cell_type": "code",
   "execution_count": 8,
   "metadata": {
    "id": "uH7g2Wk5isXz"
   },
   "outputs": [],
   "source": [
    "# Please provide your answer below.\n",
    "# Answer: c"
   ]
  },
  {
   "cell_type": "markdown",
   "metadata": {
    "id": "oOcMPpLMGVoi"
   },
   "source": [
    "10. What is the correct way to filter the dataframe such that we create a new dataframe with only items that cost more than $50?\n",
    "\n",
    "a.\n",
    "```\n",
    "transaction_df = transaction_df['item_cost>50']\n",
    "```\n",
    "\n",
    "b. \n",
    "```\n",
    "transaction_df = transaction_df['item_cost' > 50]\n",
    "```\n",
    "\n",
    "c.\n",
    "```\n",
    "transaction_df = transaction_df['item_cost'] > 50\n",
    "```\n",
    "\n",
    "d.\n",
    "```\n",
    "transaction_df = transaction_df.filter('item_cost>50').show()\n",
    "```"
   ]
  },
  {
   "cell_type": "code",
   "execution_count": 9,
   "metadata": {
    "id": "dFbg3Fqrk7sr"
   },
   "outputs": [],
   "source": [
    "# Please provide your answer below.\n",
    "# Answer: d"
   ]
  },
  {
   "cell_type": "code",
   "execution_count": null,
   "metadata": {},
   "outputs": [],
   "source": []
  }
 ],
 "metadata": {
  "colab": {
   "collapsed_sections": [],
   "name": "Unit_6_7_Assessment.ipynb",
   "provenance": []
  },
  "kernelspec": {
   "display_name": "Python 3",
   "language": "python",
   "name": "python3"
  },
  "language_info": {
   "codemirror_mode": {
    "name": "ipython",
    "version": 3
   },
   "file_extension": ".py",
   "mimetype": "text/x-python",
   "name": "python",
   "nbconvert_exporter": "python",
   "pygments_lexer": "ipython3",
   "version": "3.8.8"
  }
 },
 "nbformat": 4,
 "nbformat_minor": 1
}
